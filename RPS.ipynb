{
 "cells": [
  {
   "cell_type": "code",
   "execution_count": 1,
   "metadata": {},
   "outputs": [],
   "source": [
    "import numpy as np"
   ]
  },
  {
   "cell_type": "code",
   "execution_count": 72,
   "metadata": {},
   "outputs": [],
   "source": [
    "def rps_util(i, j):\n",
    "    if i == j: \n",
    "        return 0\n",
    "    action = [0, 1, 2, 0]\n",
    "    player_0_win = set([(action[i], action[i+1]) for i in range(3)])\n",
    "\n",
    "    if (i, j) in player_0_win: \n",
    "        return 1\n",
    "    else: \n",
    "        return -1"
   ]
  },
  {
   "cell_type": "code",
   "execution_count": 70,
   "metadata": {},
   "outputs": [],
   "source": [
    "def get_nash(util, num_decisions, num_iterations):\n",
    "    # This works for any two-player zero-sum game with utility function implemented by util(i, j)\n",
    "    total_strategy_profile = [np.zeros(num_decisions) for _ in range(2)]\n",
    "    cumulative_regret = [np.zeros(num_decisions) for _ in range(2)]\n",
    "    for _ in range(num_iterations):\n",
    "        # get the probability distribution:\n",
    "        curr_strategy_profile = []\n",
    "        for i in range(2):\n",
    "            cumulative_regret_player = cumulative_regret[i] \n",
    "            if np.max(cumulative_regret_player) <= 0: \n",
    "                curr_strategy_profile.append(np.random.uniform(low=0, high=10, size=num_decisions))\n",
    "            else: \n",
    "                curr_strategy_profile.append(np.clip(cumulative_regret_player, 0, np.inf))\n",
    "        \n",
    "        #sample actions:\n",
    "        player_distribution = [strat/np.sum(strat) for strat in curr_strategy_profile]\n",
    "\n",
    "        action = [np.random.choice(range(num_decisions), p=p) for p in player_distribution]\n",
    "\n",
    "        #calculate regrets:\n",
    "        regrets_0 = [util(i, action[1]) - util(action[0], action[1]) for i in range(num_decisions)]\n",
    "        regrets_1 = [-(util(action[0], i) - util(action[0], action[1])) for i in range(num_decisions)]\n",
    "\n",
    "        #add regrets to the cumulative regrets:\n",
    "        cumulative_regret[0] += regrets_0\n",
    "        cumulative_regret[1] += regrets_1\n",
    "\n",
    "        #add strategy to cumulative strategy\n",
    "        for i in range(2):\n",
    "            total_strategy_profile[i] += player_distribution[i]\n",
    "\n",
    "    nash = [total_strat/num_iterations for total_strat in total_strategy_profile]\n",
    "    return nash"
   ]
  },
  {
   "cell_type": "code",
   "execution_count": 75,
   "metadata": {},
   "outputs": [
    {
     "data": {
      "text/plain": [
       "[array([0.33830721, 0.32382131, 0.33787149]),\n",
       " array([0.329541  , 0.33440232, 0.33605668])]"
      ]
     },
     "execution_count": 75,
     "metadata": {},
     "output_type": "execute_result"
    }
   ],
   "source": [
    "get_nash(rps_util, num_decisions=3, num_iterations=10000)"
   ]
  },
  {
   "cell_type": "code",
   "execution_count": null,
   "metadata": {},
   "outputs": [],
   "source": []
  }
 ],
 "metadata": {
  "kernelspec": {
   "display_name": "triad",
   "language": "python",
   "name": "python3"
  },
  "language_info": {
   "codemirror_mode": {
    "name": "ipython",
    "version": 3
   },
   "file_extension": ".py",
   "mimetype": "text/x-python",
   "name": "python",
   "nbconvert_exporter": "python",
   "pygments_lexer": "ipython3",
   "version": "3.8.16"
  },
  "orig_nbformat": 4,
  "vscode": {
   "interpreter": {
    "hash": "2690534d4f58dee1a7e4ebd2bd2a147b502b9c6bebd215a52147f99dc10e3af9"
   }
  }
 },
 "nbformat": 4,
 "nbformat_minor": 2
}
