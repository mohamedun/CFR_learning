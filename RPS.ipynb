{
 "cells": [
  {
   "cell_type": "code",
   "execution_count": 1,
   "metadata": {},
   "outputs": [],
   "source": [
    "import numpy as np"
   ]
  },
  {
   "cell_type": "code",
   "execution_count": 42,
   "metadata": {},
   "outputs": [],
   "source": [
    "cumulative_regret = [np.array([0., 0., 0.]), np.array([0., 0., 0.])]\n",
    "num_iterations = 1000\n",
    "total_strategy_profile = [np.array([0., 0., 0.]), np.array([0., 0., 0.])]\n",
    "def util(i, j):\n",
    "    if i == j: \n",
    "        return 0\n",
    "    action = [0, 1, 2, 0]\n",
    "    player_0_win = set([(action[i], action[i+1]) for i in range(3)])\n",
    "\n",
    "    if (i, j) in player_0_win: \n",
    "        return 1\n",
    "    else: \n",
    "        return -1"
   ]
  },
  {
   "cell_type": "code",
   "execution_count": 43,
   "metadata": {},
   "outputs": [],
   "source": [
    "for _ in range(num_iterations):\n",
    "    # get the probability distribution:\n",
    "    curr_strategy_profile = []\n",
    "    for i in range(2):\n",
    "        cumulative_regret_player = cumulative_regret[i] \n",
    "        if np.max(cumulative_regret_player) <= 0: \n",
    "            curr_strategy_profile.append(np.random.uniform(low=0, high=10, size= 3))\n",
    "        else: \n",
    "            curr_strategy_profile.append(np.clip(cumulative_regret_player, 0, np.inf))\n",
    "    \n",
    "    #sample actions:\n",
    "    player_distribution = []\n",
    "    for i in range(2):\n",
    "        player_distribution.append(curr_strategy_profile[i]/np.sum(curr_strategy_profile[i]))\n",
    "\n",
    "    action = []\n",
    "    for i in range(2):\n",
    "        action.append(np.random.choice(range(3), p=player_distribution[i]))\n",
    "\n",
    "    #calculate regrets:\n",
    "    regrets_0 = [util(i, action[1]) - util(action[0], action[1]) for i in range(3)]\n",
    "    regrets_1 = [-(util(action[0], i) - util(action[0], action[1])) for i in range(3)]\n",
    "\n",
    "    #add regrets to the cumulative regrets:\n",
    "    cumulative_regret[0] += regrets_0\n",
    "    cumulative_regret[1] += regrets_1\n",
    "    for i in range(2):\n",
    "        total_strategy_profile[i] += player_distribution[i]\n",
    "\n",
    "nash = []\n",
    "for i in range(2):\n",
    "    nash.append(total_strategy_profile[i]/np.sum(total_strategy_profile[i]))"
   ]
  },
  {
   "cell_type": "code",
   "execution_count": 44,
   "metadata": {},
   "outputs": [
    {
     "data": {
      "text/plain": [
       "[array([0.31671293, 0.31652245, 0.36676462]),\n",
       " array([0.33291543, 0.31156007, 0.35552449])]"
      ]
     },
     "execution_count": 44,
     "metadata": {},
     "output_type": "execute_result"
    }
   ],
   "source": [
    "nash"
   ]
  },
  {
   "cell_type": "code",
   "execution_count": null,
   "metadata": {},
   "outputs": [],
   "source": []
  }
 ],
 "metadata": {
  "kernelspec": {
   "display_name": "triad",
   "language": "python",
   "name": "python3"
  },
  "language_info": {
   "codemirror_mode": {
    "name": "ipython",
    "version": 3
   },
   "file_extension": ".py",
   "mimetype": "text/x-python",
   "name": "python",
   "nbconvert_exporter": "python",
   "pygments_lexer": "ipython3",
   "version": "3.8.16"
  },
  "orig_nbformat": 4,
  "vscode": {
   "interpreter": {
    "hash": "2690534d4f58dee1a7e4ebd2bd2a147b502b9c6bebd215a52147f99dc10e3af9"
   }
  }
 },
 "nbformat": 4,
 "nbformat_minor": 2
}
